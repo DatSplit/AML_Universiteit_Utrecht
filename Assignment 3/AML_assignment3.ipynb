{
 "cells": [
  {
   "cell_type": "markdown",
   "metadata": {},
   "source": [
    "# Advanced Machine Learning - programming assignment 3\n",
    "\n",
    "*Due: Friday January 13*\n",
    "\n",
    "*Grading: 10 points total*"
   ]
  },
  {
   "cell_type": "markdown",
   "metadata": {},
   "source": [
    "**Please fill in:**\n",
    "* Niels Teunissen 2305267\n",
    "* Ian van de Poll 4388232"
   ]
  },
  {
   "cell_type": "markdown",
   "metadata": {},
   "source": [
    "### Further instructions:\n",
    "* Make sure your code is properly commented.\n",
    "* Submit your code in Blackboard using one of your accounts; we will put the grade in Blackboard for the other team member as well.\n",
    "* **Make sure to name the submitted file according to your and your collaborators last name.** (`submitter_collaborator.ipynb`)"
   ]
  },
  {
   "cell_type": "markdown",
   "metadata": {},
   "source": [
    "## Structural causal models\n",
    "In this programming assignment, we will look at data from a structural causal model, and see how we can estimate the causal effect of $X$ on $Y$ from these data. The model consists of three variables:\n",
    "\n",
    "* $X$ is the treatment: the dosage of a drug taken by a patient;\n",
    "* $Y$ is the outcome: a numerical score reflecting how well the patient recovered;\n",
    "* $Z$ is an additional variable that summarizes relevant genetic information about a patient.\n",
    "\n",
    "$Y$ and $Z$ are continuous (real-valued), while $X$ is discrete.\n",
    "\n",
    "The following code generates and plots observational data from this model."
   ]
  },
  {
   "cell_type": "code",
   "execution_count": 68,
   "metadata": {},
   "outputs": [],
   "source": [
    "import numpy as np\n",
    "from sklearn import linear_model\n",
    "import matplotlib.pyplot as plt\n",
    "\n",
    "# The following three functions implement the structural equations of an SCM with three\n",
    "# endogenous variables X, Y, and Z. Each endogenous variable in this SCM has one exogenous\n",
    "# parent (unnamed) whose value is sampled by the corresponding function. Each of these\n",
    "# functions operates on numpy arrays of length num_samples, where num_samples is the\n",
    "# number of data points.\n",
    "def f_Z(num_samples):\n",
    "    return 4 * np.random.random(size=num_samples) + 4 * np.random.random(size=num_samples)\n",
    "def f_X(z, num_samples):\n",
    "    x_cont = z + np.random.normal(loc=0.0, scale=1.0, size=num_samples)\n",
    "    return np.clip(2 * np.around(0.5 * (x_cont)), 0, 10).astype(dtype=int)\n",
    "def f_Y(z, x, num_samples):\n",
    "    return 2 * z - x + np.random.normal(loc=0.0, scale=0.4, size=num_samples)\n",
    "\n",
    "# Generate data from the observational distribution.\n",
    "def generate_observational_data(num_samples):\n",
    "    z = f_Z(num_samples)\n",
    "    x = f_X(z, num_samples)\n",
    "    y = f_Y(z, x, num_samples)\n",
    "    return (x, y, z)\n",
    "\n",
    "num_samples_obs = 1000\n",
    "\n",
    "x, y, z = generate_observational_data(num_samples_obs)"
   ]
  },
  {
   "cell_type": "code",
   "execution_count": 69,
   "metadata": {},
   "outputs": [
    {
     "data": {
      "text/plain": "<Figure size 432x288 with 1 Axes>",
      "image/png": "[encoded data removed]"
     },
     "metadata": {
      "needs_background": "light"
     },
     "output_type": "display_data"
    }
   ],
   "source": [
    "plt.scatter(x, y, c=z)\n",
    "plt.show()"
   ]
  },
  {
   "cell_type": "markdown",
   "metadata": {},
   "source": [
    "**Task 1 (1 point):** Use any supervised learning method of your choice to fit a function from $X$ to $Y$ to these data. (So $X$ is the only feature; $Z$ is not used. Note that you are *not* asked to validate or test your fit here.) Make a new plot that displays both the data points and your fitted function, for $x$ in the range $[0,10]$.\n",
    "\n",
    "\n",
    "To plot a regression curve, first use a function like `np.linspace` to create an array of neatly ordered x-values. Then have your trained machine learning model predict the y-values corresponding to those x-values."
   ]
  },
  {
   "cell_type": "code",
   "execution_count": 70,
   "metadata": {},
   "outputs": [
    {
     "name": "stdout",
     "output_type": "stream",
     "text": [
      "[ 2  6  2  6  6  4  6  4  4  6  4  4  4  4  6  6  8  2  4  6  4  6  4  6\n",
      "  4  4  4  4  6  6  6  6  4  0  6  6  6  4  2  4  2  8  0  2  4  2  6  6\n",
      "  2  2  2  0  0  4  4  4  6  6  0  6  6  2  4  6  4  2  4  6  4  2  4  4\n",
      "  6  2  4  2  4  4  4  6  6  6  4  6  6  8  6  4  4  4  2  6  4  2  6  2\n",
      "  6  8  4  6  4  4  4  4  4  2  8  6  4  6  6  2  6  6  4  6  4  4  4  8\n",
      "  4  0  6  6  2  4  4  2  2  2  6  4  4  2  2  2  4  2  8  4  4  6  8  6\n",
      "  4  4  2  4  2  2  4  4  4  2  4  6  2  4  6  0  2  2  6  6  4  4  6  4\n",
      "  4  6  4  2  6  2  4  4  4  6  6  6  4  6  6  4  6  4  4  4  4  6  4  2\n",
      "  2  6  2  4  8  4  0  4  6  4  6  2  4  0  0  2  4  6  6  6  4  4  6  2\n",
      "  4  8  6  6  8  2  4  4  4  0  2  2  2  2  6  4  2  4  8  2  4  4  2  4\n",
      "  4  4  6  4  2  2  6  2  2  4  2  8  4  4  2  8  4  4  4  4  4  6  4  2\n",
      "  8  4  2  4  2  4  2  4  4  2  2  4  2  6  2  4  2  4  2  6  6  6  4  4\n",
      "  4  2  4  4  0  4  4  2  4  4  2  4  4  6  6  6  2  4  8  4  4  4  4  4\n",
      "  6  2  6  0  8  4  2  2  4  2  8  4  6  0  4  2  8  4  2  2  2  8  4  8\n",
      "  4  4  4  2  2  6  6  6  4  4  2  6  4  4  2  4  2  6  4  4  8  0  6  4\n",
      "  6  6  4  2  0  0  2  4  2  6  4  4  6  4  6  4  2  4  2  0  2  4  6  4\n",
      "  8  6  2  4  2  8  6  6  2  2  2  8  2  6  4  6  4  8  6  2  4  6  2  4\n",
      "  2  2  4  0  4  6  4  0  2  6  4  8  4  6  6  6  6  2  6  2  2  6  6  2\n",
      "  4  4  8  6  4  0  6  6  0  0  4  4  4  8  4 10  4  6  0  4  4  4  4  4\n",
      "  6  0  6  6  6  4  4  6  4  4  4  6  6  4  0  2  6  2  4  4  6  0  8  2\n",
      "  4  2  6  2  2  4  8  4  2  6  4  2  2  6  2  2  4  4  4  0  4  4  6  4\n",
      "  4  2  4  4  6  4  2  6  2  4  2  4  8  0  8  2  4  4  8  8  2  4  6  4\n",
      "  8  2  4  2  6  4  4  4  4  2  6  6  6  4  2  4  6  6  2  6  4  4  4  2\n",
      "  2  4  6  2  4  0  4  6  6  4  2  2  2  4  2  4  2  4  4  4  6  4  6  4\n",
      "  4  8  2  4  2  2  6  4  0  4  2  6  2  2  4  0  4  2  4  4  4  4  4  4\n",
      "  0  4  2  6  4  4  4  6  6  6  2  2  0  6  6  4  4  2  2  4  2  6  2  4\n",
      "  6  2  2  4  2  4  4  4  6  8  6  2  4  2  2  6  8  4  4  4  8  2  2  4\n",
      "  4  2  4  2  6  6  4  6  4  4  4  4  4  0  6  2  4  4  4  6  4  2  4  2\n",
      "  0  4  2  2  4  4  8  4  4  6  4  2  4  4  2  6  2  4  2  6  4  6  2  4\n",
      "  4  4  0  4  2  2  2  2  6  4  4  2  2  6  6  4  0  0  6  4  6  2  4  2\n",
      "  4  4  4  6  4  2  6  4  6  6  6  4  4  0  6  2  6  6  2  2  6  4  4  6\n",
      "  2  2  0  0  6  4  4  4  2  6  4  4  6  4  4  8  2  6  2  6  6  4  4  6\n",
      "  4  6  8  8  6  4  4  4  0  6  6  2  6  2  4  4  2  0  4  4  0  4  2  2\n",
      "  6  6  2  4  4  6  2  2  2  2  6  4  4  6  2  0  4  4  6  6  4  6  4  6\n",
      "  2  2  4  4  6  2  4  0  4  4  6  2  4  2  4  2  2  0  8  4  4  4  8  4\n",
      "  2  2  4  6  4  6  0  6  4  2  4  4  4  6  6  8  6  2  4  4  2  2  6  4\n",
      "  6  8  6  0  2  2  2  4  2  6  0  4  6  6  4  4  8  4  6  2  6  2  4  2\n",
      "  2  2  4  6  4  0  2  0  4  2  6  6  4  8  4  2  4  6  0  4  6  8  6  2\n",
      "  2  4  6  4  4  4  4  2  4  4  4  4  4  2  6  6  2  6  2  0  2  8  6  6\n",
      "  4  4  0  4  6  6  2  6  6  6  6  6  4  6  4  6  2  4  2  6  0  4  6  6\n",
      "  2  6  4  6  6  0  4  8  8  4  2  4  2  8  4  6  6  0  6  4 10  4  6  4\n",
      "  6  6  6  2  4  6  6 10  4  4  4  2  4  6  4  2]\n",
      "[-0.26020829  7.91730063  2.36605431  3.75200052  4.46614544  0.70932855\n",
      "  6.0704153   4.97053501  5.86930664  3.62781499  4.51657645  5.12444439\n",
      "  3.56476141  4.06627424  2.86942381  2.95642857  3.71952457 -0.04573173\n",
      "  4.6816126   5.62297954  5.76586801  6.0329446   4.36094288  1.20548814\n",
      "  4.40470999  3.86910549  8.02909795  3.87809668  2.10815214  7.10179222\n",
      "  4.2702885   5.87934204  1.49090897  3.14364974  1.51537547  3.68689151\n",
      "  3.99644895  3.94719487  1.16079447  0.59666991  1.89190401  4.6816062\n",
      "  1.60461872  2.19851667  7.0334355   2.17702845  3.65218295  7.24450572\n",
      "  3.03344536  0.81746413 -0.73166077  1.67535091  1.7438217   1.63932797\n",
      "  4.99096284  3.58672438  6.25782393  5.87146925  0.7843803   5.06708237\n",
      "  5.2879603   3.67019695  1.24810069  5.28881271  0.67382879  3.67307816\n",
      "  5.29540577  7.24544117  1.9422342   5.24129315  2.45373239  5.95096376\n",
      "  5.13931624  1.72886175  4.99600564  3.42364963  6.70415805  4.82234128\n",
      " -0.24318158  4.7545326   5.25749707  6.79003704  5.39528321  3.89442983\n",
      "  2.64348262  3.39817219  2.19711283  2.23545137  4.2189436   3.78561265\n",
      "  3.20736357  4.1998491   5.62051253  0.61327482  5.54541091  1.29468285\n",
      "  3.35955619  6.15177038  1.8756998   4.73379829  5.07259565  2.66340358\n",
      "  2.46979047  3.98210759  0.78754701  4.22856125  4.81967321  3.5046317\n",
      "  3.71955672  4.69687496  5.46173291  7.51030069  4.65664079  3.93025719\n",
      "  2.26540929  3.63142083  0.75839609  4.66335895  3.41654693  5.86663237\n",
      "  4.41221792  1.48388144  3.82061163  2.8566199   5.86401907 -0.29158635\n",
      "  1.7050798   2.90990658  1.75527362  1.99367873  5.60602667  4.51609939\n",
      "  1.70149481  1.82009069  5.92347195  5.28308697  4.89188237  1.6932147\n",
      "  4.37372737  1.52230937  4.92344519  7.15462271  2.05983216  4.39381017\n",
      "  1.2750886   3.49111848  7.0373352   7.31266832  1.68524621  1.84018579\n",
      "  2.68700378  3.77351418  5.1205063   2.66701071  3.84929832  4.97514036\n",
      " -0.52681485  8.95257766  4.12302496  4.48171919  4.20826715  3.70586663\n",
      "  7.54919692  6.32351748  6.11640332  5.82150235  5.64856094  3.48570653\n",
      "  4.74833747  4.24747812  4.17574983  2.96311966  6.70818135  3.52379182\n",
      "  3.66235244  2.33150481  2.26322753  4.67146434  5.46369859  6.5366953\n",
      "  3.43974     7.96495106  7.07887811  4.43229072  6.44319547  3.13112543\n",
      "  6.53269903  5.47145748  8.02420647  8.96163933  1.67333185  6.7576863\n",
      "  4.7085555   3.8454357   4.49959759  7.03283433  4.37559951  7.90836687\n",
      "  2.90549763  0.82864043  6.5573153   4.67930966  4.77626718  1.20608367\n",
      "  4.29486259  2.20532243  1.337274    5.23039013  2.76152222  4.36384305\n",
      "  8.1592802   4.81624995  1.36973243  1.06026897  6.55655757  7.03186119\n",
      "  4.75082469  6.16462788  4.72568991  2.94056068  6.71978017  3.39067962\n",
      "  7.77578127  5.52598955  3.24576566  1.22576934  0.46001078  3.63812824\n",
      "  3.71628845  2.11837358  7.4213542   3.75750181  1.15755259  2.30198407\n",
      "  6.4018959   2.33755929 -1.68010153  1.40570771  4.83700364  3.86199414\n",
      "  2.60506689  2.52731152  5.5131849   4.51303034  2.11733064  3.24198427\n",
      "  7.25255795  4.64969657  0.83899981  5.6326273   4.17588487  6.30523099\n",
      "  1.35631433  5.22072702  4.1772928   6.17453757  4.73883778  4.29610364\n",
      "  2.12734912  4.78903155  6.34967678  7.87288956  5.16219292  4.67778384\n",
      "  3.51623054  7.18504616  4.14313779  6.17593077  2.93053304  4.04187849\n",
      "  5.30145206  6.25412285  7.8819023   3.53064424  1.79140791  3.03423873\n",
      "  5.44351499  6.54221496  3.97630618  4.12292369  0.61893524  5.48337929\n",
      "  4.77221671  2.09227349  4.33511007  6.13677731  3.53072549  2.78401232\n",
      "  2.32670548  3.74188695  6.65985971  3.07897876  1.83993719  2.95852232\n",
      "  4.36552217  4.07791468  6.06205868  2.61442592  0.71467448  2.90051993\n",
      "  6.09183167  6.10514941  5.22216766  3.57794235  4.86225541  3.92874941\n",
      "  3.92124971  2.35482471  2.49023712  5.23090064  1.92541957  7.13104244\n",
      "  3.77873124  3.10353241  1.92334159  1.68399865  5.14719298  3.21907633\n",
      "  4.21245655  6.03906151  4.98373075  1.6511002   0.69335868  4.17928003\n",
      "  2.307521    2.04031367  5.35614879  1.72157665  6.62489641  4.88155444\n",
      "  1.73537573  5.1926511   3.33766578  6.28395364  5.96546384  5.59739634\n",
      "  3.2965406   2.24674275  4.41990803  0.46672636  3.56988569  6.86016213\n",
      "  6.77081832  5.69268186  4.71487507  3.62858641  3.17714608  5.90853779\n",
      "  2.02077947  3.80610583  4.26202652  2.97125169  1.11195478  5.05663331\n",
      "  4.73388019  1.83279082  5.9828477   7.38554935  3.44417095  4.21153955\n",
      "  6.38989371  3.86287381  4.48411728  3.13817398  4.20589496  1.91068812\n",
      "  5.48595296  5.60804945  2.96589431  4.52806894  2.47732859  3.01876107\n",
      "  6.39327967  6.6871599   4.65560838  4.56214489  1.95621988  6.11453734\n",
      "  2.36311904  1.23994176  3.45626299  4.73331714  2.14525016  5.60075717\n",
      "  4.82535251  3.18393165  1.26013685  4.28417545  0.92039548  6.14147863\n",
      "  5.24459999  1.72210611  9.59289637  2.07136224  5.3553302   4.05395595\n",
      "  4.85500941  1.48741608  2.34573626  2.0283738   0.97146853  5.74837816\n",
      "  3.9026885   6.83102563  2.70208487  2.64988139  5.80129966  1.63298081\n",
      "  2.61010014  5.75725623  4.44384177  4.37949239  2.01187926  6.57525974\n",
      "  5.78044258  1.43343051  4.98395625  8.05493046  0.50315635  6.90587842\n",
      "  5.99208995  2.93989677  7.35743411  8.17417199  6.00840965 -0.27623456\n",
      "  5.66786143  3.73348717  0.04957919  5.47466377  4.52189966  8.08463707\n",
      "  5.80821727  4.70159766  5.90625749  4.71646289  3.10578636  5.19126778\n",
      "  3.90859073  6.28194598  1.88775641  2.04506436  2.40415617  6.76743637\n",
      "  4.34869877  5.3146129   4.46870704  4.82266143  5.66217987  5.51717671\n",
      "  3.01911148  4.39016676  3.49783865  6.69268335  5.65290732  4.58765306\n",
      "  3.61815899  6.03701623  4.5645954   4.73931054  4.17877102  2.78269824\n",
      "  1.43183374  5.75390764  4.96796902  4.04994065 -0.19395584  3.95543671\n",
      "  5.15578747  4.38272065  2.44147919  1.45101146  5.76378521  1.52018801\n",
      "  2.55600516  3.05359573  4.12759388  1.86760848  3.44581933  0.3325624\n",
      "  3.19738763  5.99248702  5.25557174  1.9943228   0.16045066  2.96888684\n",
      "  5.3910008   2.12910584  3.09611469  4.27328337  3.02949348  3.32985635\n",
      "  1.53283874  7.12511648  2.11044693  5.31587225  2.630813    7.57709695\n",
      "  2.84912414  1.73550684  5.11222851  1.65519922  2.5217943   3.39433846\n",
      "  3.71953932  3.03239658  3.72937487  3.47289457  6.70508572  5.32574566\n",
      "  2.02909879  9.66216378  6.33717695  1.88011908  0.96655145  4.15265421\n",
      "  6.79939536  4.27060321  5.73493295  4.33623385  6.29200807  2.47330848\n",
      "  4.50384451  6.9832037   2.60348889  4.16997877  5.3079491   3.87834124\n",
      "  3.44468671  2.09268622  4.32103969  2.19968668  4.41661444  2.73509594\n",
      "  5.78195515  6.32076927  3.99143178  4.85965747  5.36354444  3.7383619\n",
      "  7.50058116  4.77252933  1.62142151  2.09466058  3.96151249  2.62403782\n",
      "  1.85587018  4.40879776  2.82677094  1.24777688  4.18745011  5.73900877\n",
      "  4.23743717  4.4008437   1.95380791  3.05385369  4.59066093  4.10639869\n",
      "  3.59054203  5.45011102  2.16074654  4.93391046 -0.05402159  0.04709516\n",
      "  1.46833796  4.39432703  0.34868831  2.09062787  1.3786704   3.89445347\n",
      "  6.55731174  2.53619329  3.59359794  0.35032458  5.95058916  0.96948943\n",
      "  5.71615088  1.41013758  4.61629094  4.82417474  3.68586158  6.46117112\n",
      "  3.0267535   4.65033182  6.07245616  5.94098949  5.47216889  6.2974936\n",
      "  4.88102775  0.71555022  3.68177308  7.4684221   6.32316012  5.97964331\n",
      "  3.32336502  2.27027057  3.26825189  3.59784015  5.06860818  1.50473362\n",
      " -0.20888706  5.91109919  0.99987613  6.86580172  4.35730301  5.29638875\n",
      "  6.11525933  5.10706973  4.3345645   4.08452887  2.99490164  2.94710747\n",
      "  2.3654176   6.20654438  4.46072864  0.90005976  1.55477021  3.39967236\n",
      "  2.45903666  3.62001584  0.98670036  0.09592025  4.07290572  4.05763015\n",
      "  4.52521002  2.37866051  4.28266003 -0.51410902  1.02199943  6.32359177\n",
      "  4.85328879  7.17859299  1.15555461  7.06582137  6.0944994   2.09975952\n",
      "  8.02481319  3.81734714  4.37280799  3.93632624  7.59423291  5.98912096\n",
      "  2.6153891   3.06740002  4.82319769  2.67153749  3.46293184  0.35730187\n",
      "  1.96642736  0.075496    4.305047    1.52614444  5.58756496  3.29598588\n",
      "  2.79498598  6.32409287  3.10478173  2.77144007  4.00496147  3.48787337\n",
      "  3.16745617  1.1381665   3.07018368  3.45875184  1.89807403  4.53575638\n",
      "  4.31945014  6.02590999  4.79252234 -0.23121804  4.4945478  -0.07040527\n",
      "  3.37686447  5.4725579   1.53386867  5.8121571   3.26637519  0.29151734\n",
      "  5.93757618  5.97964444  5.40060061  5.5365723   2.8678262   0.37301572\n",
      "  6.16394596  4.97823526  0.25869323  5.94312802  4.16724969  1.26072846\n",
      "  6.22649406  4.59092193  4.53421034  6.57528972  3.82115012  4.3843816\n",
      "  2.66112379  1.79159086  3.07671167  5.49243262  4.347533    4.6864714\n",
      "  4.70506095  2.82593484  3.4316039   2.22543224  3.11487955  3.9584581\n",
      "  4.27005168  6.90754027  5.80802576  4.9563368   3.47347951  1.7291889\n",
      "  8.19079104  4.35309065  3.8024489   1.06805349  6.51978378  4.50755096\n",
      "  0.3219378   3.25409254  1.74378749  4.68108562  2.73405643  6.23811804\n",
      "  2.2712897   3.92556121  6.19658219  7.61921475  5.37369467  3.63319615\n",
      "  5.56207542  6.63749693  3.00855772  1.98554038  7.64164373  7.89198633\n",
      "  2.85023516  2.83701945  6.44858632  3.53742381  0.39580522  9.21178595\n",
      "  3.73631479  2.35914512  2.82782328  1.52066245  3.86301685  4.03582167\n",
      "  3.84261672  3.02002431  2.32602086  3.78087278  0.5855072   1.97278385\n",
      "  2.31274507  5.75785026  2.372821    2.57387815  2.01867712  3.61013566\n",
      "  3.21148383  3.87648226  4.28268021  4.3972741   5.35831237  7.52131324\n",
      "  1.61326147  5.2167235   0.49052092  6.25055877  3.26092045  4.7459505\n",
      "  4.32086023  2.7474264   5.87180511  1.9935971   3.20267407  3.00980088\n",
      "  0.99740078  6.73341625  2.39983859  4.475424    0.34119362  1.90317978\n",
      "  3.32626333  3.27456236  2.93350063  3.06398059  1.745644    3.86086476\n",
      "  0.3055005   8.48890066  4.13610291  3.40896494  2.64114534  7.41341862\n",
      "  2.20549336  5.7989417   2.69580174  2.63857047  4.66201284  0.34578581\n",
      "  7.08366302  5.85617319  5.98799376  2.85660106  2.34015922  5.97068523\n",
      "  4.88452584  7.2301438   6.33179972  6.45161646  5.94831134  4.94468771\n",
      "  4.73719879  3.17589702  4.44429328  1.28332273  2.08804941  1.08556887\n",
      "  2.65143997  2.38599712  4.44162441  2.76060213  8.1941041   0.21880941\n",
      "  5.70533156  5.9352675   4.42446455  1.46013259  4.93371891  0.71436828\n",
      "  5.82326599  0.96331795  3.33402019  2.3415323   4.40539106  4.15109766\n",
      "  4.65738883  1.75667752  3.89329532  6.53006936  5.12451282  3.90956464\n",
      "  3.86677076  4.4264014   0.08128315  0.5489529   6.70432171  3.13657194\n",
      "  4.70786282  5.26110724  5.43519542  6.23575851  4.58900156  2.85626081\n",
      "  6.48785441  3.00057873 -0.97103218  2.00204075  5.96161501  2.23042551\n",
      "  8.82227973  6.63747829  5.23703196  1.81954544  4.9415525   2.92993599\n",
      "  5.55522478  4.83509     4.07164196  4.54600686  3.76084697  5.29749059\n",
      "  6.48232558  5.02303087  3.49028475  3.08290343  5.55954206  4.5864902\n",
      "  2.20787287  5.79621816  2.03702464  3.33301167  1.02976578  2.7974151\n",
      "  3.93912067  0.97608422  3.98980879  7.32616486  4.9239939   3.13647657\n",
      "  3.94821132  3.58029713  5.12598993  0.97281022  5.80780071  3.06618271\n",
      "  1.51430842  4.14426757  5.24138699  1.52731303  2.6237295   3.50861694\n",
      "  1.75056243  2.32683417  3.2891619   1.63238679  5.99372343  2.29297073\n",
      "  4.46578501  6.61019389  6.97850772  3.51889666  2.58322516  3.11831324\n",
      "  6.00625171  2.91088728  4.76621792  4.32037587  4.48129427  2.15581527\n",
      "  4.26999293  3.48869747  4.69805295  2.78215906  1.99388598  5.30307541\n",
      "  2.9861157   1.76402804  4.14507069  5.04514048  6.02122165  3.6121998\n",
      "  2.78109967  4.46125081  4.70785352  4.4673614   7.39298665  6.34477878\n",
      "  1.39027005  4.71289045  4.83283886  6.3692975   3.31582146  4.42085605\n",
      "  2.19873722  5.30521668  5.31353061  6.17677509  2.87153936  3.3404676\n",
      "  6.94452864  5.53855077  3.52964588  5.55674729  4.11465752  3.05810407\n",
      "  2.50389105  7.7135093   4.59596653  5.38195252  0.79471334  3.03099073\n",
      "  7.10237529  4.08455422  3.62232875  2.65896762  2.89463962  1.51159696\n",
      "  0.43133549  4.51192423 -0.02305795  5.6618649   6.81643994  3.44635098\n",
      "  5.04113499  4.98603059  5.51789617  3.989585    5.62187824  6.57651622\n",
      "  1.21916469  5.70895373  2.76201489  1.16242724  5.07724654  6.34545187\n",
      "  4.00105823  4.25726263  3.14890639  6.87474276  0.67670442  3.68575483\n",
      "  4.91850541  3.07960986  5.22508239  1.38561141]\n"
     ]
    },
    {
     "data": {
      "text/plain": "<Figure size 432x288 with 1 Axes>",
      "image/png": "[encoded data removed]"
     },
     "metadata": {
      "needs_background": "light"
     },
     "output_type": "display_data"
    }
   ],
   "source": [
    "from sklearn.linear_model import LinearRegression\n",
    "\n",
    "# Your code here\n",
    "\n",
    "lr = LinearRegression()\n",
    "\n",
    "print(x)\n",
    "print(y)\n",
    "\n",
    "lr.fit(x.reshape(-1, 1), y.reshape(-1, 1))\n",
    "\n",
    "reg_curve_datapoints = np.linspace(0, 10, 1000)\n",
    "\n",
    "reg_curve_pred = lr.predict(reg_curve_datapoints.reshape(-1, 1))\n",
    "\n",
    "plt.scatter(x, y)\n",
    "plt.plot(reg_curve_datapoints, reg_curve_pred, c='red')\n",
    "plt.show()\n"
   ]
  },
  {
   "cell_type": "markdown",
   "metadata": {},
   "source": [
    "Look at the code of `f_X`, `f_Y`, `f_Z`, and `generate_observational_data` to answer the following questions.\n",
    "\n",
    "**Question 2 (1 point):** For each endogenous variable, what other endogenous variables are the direct causes? For each such relation between two variables, explain what the presence of this relation means in the real world, where the three variables represent treatment, outcome, and genetic information."
   ]
  },
  {
   "cell_type": "markdown",
   "metadata": {},
   "source": [
    "*Your answer here*\n",
    "\n",
    "X is a direct cause of Y. Z is direct cause of Y and X. The outcome is directly influenced by the treatment and the genetica information determines the treatment and therefore also the outcome of the treatment."
   ]
  },
  {
   "cell_type": "markdown",
   "metadata": {},
   "source": [
    "## Intervening on the system\n",
    "\n",
    "Now we will consider what happens if we intervene on the system by prescribing certain dosages of the drug.\n",
    "\n",
    "**Task 3 (1 point):** Complete the following function, which is analogous to the function `generate_observational_data`, except now instead of observational data, each data point $(x_i, y_i, z_i)$ should be generated from the interventional distribution with $do(X=x_i)$. The values $x_i$ are specified by the array `x`, which is the first argument of this function."
   ]
  },
  {
   "cell_type": "code",
   "execution_count": 71,
   "metadata": {},
   "outputs": [],
   "source": [
    "def generate_experimental_data(x, num_samples):\n",
    "    # Generate data under intervention do(X=x[i]). x is a vector of length num_samples.\n",
    "    # Your code here\n",
    "\n",
    "    z = f_Z(num_samples)\n",
    "    y = f_Y(z, x, num_samples)\n",
    "\n",
    "    return x, y, z"
   ]
  },
  {
   "cell_type": "markdown",
   "metadata": {},
   "source": [
    "We will look at interventional data where for each data point, the dosage is chosen uniformly at random from the set $\\{0,2,4,8\\}$, independently for each individual."
   ]
  },
  {
   "cell_type": "code",
   "execution_count": 72,
   "metadata": {},
   "outputs": [],
   "source": [
    "num_samples_exp = 200\n",
    "\n",
    "# Set the values of x according to the distribution specified above, then generate the whole data\n",
    "# under the intervention do(X=x).\n",
    "x_exp = np.random.choice(np.array([0, 2, 4, 8], dtype=int), size=num_samples_exp)\n",
    "(x_exp, y_exp, z_exp) = generate_experimental_data(x_exp, num_samples_exp)"
   ]
  },
  {
   "cell_type": "markdown",
   "metadata": {},
   "source": [
    "**Task 4 (0.5 points):** Plot these experimental data in the same way as before, again including the curve you fit earlier to the observational data."
   ]
  },
  {
   "cell_type": "code",
   "execution_count": 73,
   "metadata": {},
   "outputs": [
    {
     "data": {
      "text/plain": "<Figure size 432x288 with 1 Axes>",
      "image/png": "[encoded data removed]"
     },
     "metadata": {
      "needs_background": "light"
     },
     "output_type": "display_data"
    }
   ],
   "source": [
    "# Your code here\n",
    "\n",
    "plt.scatter(x_exp, y_exp, z_exp)\n",
    "plt.plot(reg_curve_datapoints, reg_curve_pred, c='red')\n",
    "plt.show()"
   ]
  },
  {
   "cell_type": "markdown",
   "metadata": {},
   "source": [
    "**Task 5 (0.5 points):** Compute the RMSE (root mean squared error) when you use the regression curve you learned earlier to predict $Y$ in these new data. (To put it another way: we used the observational data as training data, and now we are using the experimental data as test data.)"
   ]
  },
  {
   "cell_type": "code",
   "execution_count": 74,
   "metadata": {},
   "outputs": [
    {
     "name": "stdout",
     "output_type": "stream",
     "text": [
      "5.268836381238853\n"
     ]
    }
   ],
   "source": [
    "# Your code here\n",
    "\n",
    "y_exp_pred = lr.predict(x_exp.reshape(-1, 1))\n",
    "\n",
    "RMSE = np.sqrt(np.sum(np.divide(np.subtract(y_exp_pred.reshape(1, -1)[0], y_exp)**2, num_samples_exp)))\n",
    "\n",
    "print(RMSE)"
   ]
  },
  {
   "cell_type": "markdown",
   "metadata": {},
   "source": [
    "You should see in your plot that the curve we learned from the observational data, does not seem to work well for predicting the outcome $Y$ in the interventional data. This is because the experimental distribution is different from the observational distribution.\n",
    "\n",
    "**Question 6 (1 point):** Look at the product decompositions of the original SCM and the SCM modified by the intervention on $X$. Which factors in the decompositions are the same between the observational and the experimental distribution? And what conditional distribution (which may or may not appear in either product decomposition) needs to stay the same between the two distributions, in order for your fitted curve to also give good predictions on the experimental data?"
   ]
  },
  {
   "cell_type": "markdown",
   "metadata": {},
   "source": [
    "*Your answer here*\n",
    "\n",
    "The factors of Z and Y are the same between the observational and the experimental distribution. P(Y = y | Z = z, X = x)"
   ]
  },
  {
   "cell_type": "markdown",
   "metadata": {},
   "source": [
    "**Question 7 (1.5 points):** What (marginal or conditional) independence should hold in the experimental data, based on d-separation? Plot the data in a way that illustrates this independence, and explain what property of the plot illustrates the independence."
   ]
  },
  {
   "cell_type": "markdown",
   "metadata": {},
   "source": [
    "*Your answer here*"
   ]
  },
  {
   "cell_type": "code",
   "execution_count": 75,
   "metadata": {},
   "outputs": [
    {
     "data": {
      "text/plain": "<Figure size 432x288 with 1 Axes>",
      "image/png": "[encoded data removed]"
     },
     "metadata": {
      "needs_background": "light"
     },
     "output_type": "display_data"
    }
   ],
   "source": [
    "# Your code here\n",
    "\n",
    "plt.hist(y_exp, color='green')\n",
    "plt.hist(x_exp, color='red')\n",
    "plt.hist(z_exp, color='blue')\n",
    "\n",
    "\n",
    "plt.show()"
   ]
  },
  {
   "cell_type": "markdown",
   "metadata": {},
   "source": [
    "**Task 8 (2 points):** Now, we will use the method of inverse probability weighing (section 3.6 in the book, covered in lecture 12) for this task. Using *only the observational data*, fit a logistic regression to predict $X$ using $Z$ as a feature. From this logistic regression, extract an estimate of $P(X=x_i|Z=z_i)$ for each data point $(x_i, y_i, z_i)$. (Consult the scikit-learn manual to learn how to do this.) Use these to compute an inverse probability weight for each data point in the observational data set.\n",
    "\n",
    "Important note: the purpose of the logistic regression is *not* to predict the value of $X$, because we already know that value for each data point! But we do need the logistic regression to esimate the probability $P(X=x_i|Z=z_i)$."
   ]
  },
  {
   "cell_type": "code",
   "execution_count": 76,
   "metadata": {},
   "outputs": [],
   "source": [
    "# Create logistic regression object (using scikit-learn)\n",
    "reg_logistic = linear_model.LogisticRegression(max_iter=500)\n",
    "\n",
    "reg_logistic.fit(z.reshape(-1, 1), x)\n",
    "proba = reg_logistic.predict_proba(z.reshape(-1, 1))\n",
    "\n",
    "propensity = 1/proba"
   ]
  },
  {
   "cell_type": "markdown",
   "metadata": {},
   "source": [
    "**Task 9 (1 point):** Now again predict $Y$ in terms of $X$ using only the observational data as training data, but this time weigh each data point with the inverse probability weight. (Machine learning libraries often provides a way to specify a weight for each data point when fitting a model to data; check the manual of the library you are using.) Plot your regression curve in the same plot as the experimental data, as before."
   ]
  },
  {
   "cell_type": "code",
   "execution_count": 77,
   "metadata": {},
   "outputs": [
    {
     "data": {
      "text/plain": "<Figure size 432x288 with 1 Axes>",
      "image/png": "[encoded data removed]"
     },
     "metadata": {
      "needs_background": "light"
     },
     "output_type": "display_data"
    }
   ],
   "source": [
    "# Your code here\n",
    "lr_model = linear_model.LinearRegression()\n",
    "\n",
    "weights = propensity[range(len(propensity)), (x/2).astype(int)]\n",
    "\n",
    "lr_model.fit(x.reshape(-1, 1), y.reshape(-1, 1), sample_weight=weights)\n",
    "reg_curve_pred = lr_model.predict(reg_curve_datapoints.reshape(-1,1))\n",
    "\n",
    "plt.scatter(x_exp, y_exp, z_exp)\n",
    "plt.plot(reg_curve_datapoints, reg_curve_pred, c='red')\n",
    "plt.show()"
   ]
  },
  {
   "cell_type": "markdown",
   "metadata": {},
   "source": [
    "**Task 10 (0.5 points):** To verify that these predictions of the causal effect of $X$ on $Y$ are more accurate, again compute the RMSE on the experimental data."
   ]
  },
  {
   "cell_type": "code",
   "execution_count": 78,
   "metadata": {},
   "outputs": [
    {
     "name": "stdout",
     "output_type": "stream",
     "text": [
      "3.3795984896933127\n"
     ]
    }
   ],
   "source": [
    "# Your code here\n",
    "\n",
    "y_exp_pred = lr_model.predict(x_exp.reshape(-1, 1))\n",
    "\n",
    "RMSE = np.sqrt(np.sum(np.divide(np.subtract(y_exp_pred.reshape(1, -1)[0], y_exp)**2, num_samples_exp)))\n",
    "\n",
    "print(RMSE)"
   ]
  },
  {
   "cell_type": "markdown",
   "metadata": {},
   "source": [
    "You are almost done! Before handing in, make sure that the code you hand in works, and that all plots are shown. **Submit just one file per team.** Name the submitted file according to your and your collaborator's last name (`submitter_collaborator.ipynb`)."
   ]
  }
 ],
 "metadata": {
  "kernelspec": {
   "display_name": "Python 3",
   "language": "python",
   "name": "python3"
  },
  "language_info": {
   "codemirror_mode": {
    "name": "ipython",
    "version": 3
   },
   "file_extension": ".py",
   "mimetype": "text/x-python",
   "name": "python",
   "nbconvert_exporter": "python",
   "pygments_lexer": "ipython3",
   "version": "3.7.4"
  }
 },
 "nbformat": 4,
 "nbformat_minor": 2
}
